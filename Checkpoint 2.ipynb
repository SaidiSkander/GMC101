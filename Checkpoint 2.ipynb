{
 "cells": [
  {
   "cell_type": "markdown",
   "metadata": {},
   "source": [
    "# Question 1"
   ]
  },
  {
   "cell_type": "code",
   "execution_count": null,
   "metadata": {},
   "outputs": [],
   "source": [
    "l=range (2000,3200)\n",
    "s=\"\"\n",
    "for i in l :\n",
    "    if (i % 7 == 0)and(i % 5 != 0):\n",
    "        s=s+','+str(i)\n",
    "print (s)"
   ]
  },
  {
   "cell_type": "markdown",
   "metadata": {},
   "source": [
    "# Question 2"
   ]
  },
  {
   "cell_type": "code",
   "execution_count": null,
   "metadata": {},
   "outputs": [],
   "source": [
    "def fact (x):\n",
    "    s=1 ;\n",
    "    for i in range(1,x+1) :\n",
    "        s*=i \n",
    "        \n",
    "    return (s)\n",
    "fact(8)"
   ]
  },
  {
   "cell_type": "markdown",
   "metadata": {},
   "source": [
    "# Question 3"
   ]
  },
  {
   "cell_type": "code",
   "execution_count": null,
   "metadata": {},
   "outputs": [],
   "source": [
    "def fact1 (x):\n",
    "    dict1={}\n",
    "    for i in range (1,x+1):\n",
    "        dict1.update( {i:i*i})\n",
    "    return (dict1)\n",
    "y=input()\n",
    "fact1   (int(y))\n"
   ]
  },
  {
   "cell_type": "markdown",
   "metadata": {},
   "source": [
    "# Question 4"
   ]
  },
  {
   "cell_type": "code",
   "execution_count": 3,
   "metadata": {},
   "outputs": [
    {
     "name": "stdout",
     "output_type": "stream",
     "text": [
      "Ch = \n",
      "kitten\n",
      "N = \n",
      "0\n"
     ]
    },
    {
     "data": {
      "text/plain": [
       "'itten'"
      ]
     },
     "execution_count": 3,
     "metadata": {},
     "output_type": "execute_result"
    }
   ],
   "source": [
    "def fact2 (ch,n):\n",
    "    ch1=ch[0:n]\n",
    "    ch2=ch[n+1:len(ch)]\n",
    "    ch3=ch1+ch2\n",
    "    return ch3\n",
    "print (\"Ch = \")\n",
    "ch=input() \n",
    "print (\"N = \")\n",
    "n=input()\n",
    "fact2(ch,int(n))"
   ]
  },
  {
   "cell_type": "markdown",
   "metadata": {},
   "source": [
    "# Question 5 "
   ]
  },
  {
   "cell_type": "code",
   "execution_count": 26,
   "metadata": {},
   "outputs": [
    {
     "data": {
      "text/plain": [
       "[[0, 1], [2, 3], [4, 5]]"
      ]
     },
     "execution_count": 26,
     "metadata": {},
     "output_type": "execute_result"
    }
   ],
   "source": [
    "import numpy as np\n",
    "n=np.array([[0,1],[2,3],[4,5]])\n",
    "n1=[]\n",
    "for i in range (3):\n",
    "    for j in range (1):\n",
    "        n1.append([n[i,j],n[i,j+1]])\n",
    "        \n",
    "n1 \n",
    "        \n"
   ]
  },
  {
   "cell_type": "markdown",
   "metadata": {},
   "source": [
    "# Question 6"
   ]
  },
  {
   "cell_type": "code",
   "execution_count": 29,
   "metadata": {},
   "outputs": [
    {
     "data": {
      "text/plain": [
       "array([[ 1., -1.],\n",
       "       [-1.,  1.]])"
      ]
     },
     "execution_count": 29,
     "metadata": {},
     "output_type": "execute_result"
    }
   ],
   "source": [
    "import numpy as np \n",
    "a1=np.array([0,1,2])\n",
    "a2=np.array([2,1,0])\n",
    "a3=np.cov(a1,a2)\n",
    "a3"
   ]
  },
  {
   "cell_type": "markdown",
   "metadata": {},
   "source": [
    "# Question 7"
   ]
  },
  {
   "cell_type": "code",
   "execution_count": 40,
   "metadata": {},
   "outputs": [
    {
     "name": "stdout",
     "output_type": "stream",
     "text": [
      "100,150\n",
      "18\n",
      "22\n"
     ]
    }
   ],
   "source": [
    "import math\n",
    "def fact7(d,c=50,h=30):\n",
    "    q= math.sqrt ((d*c*2)/h)\n",
    "    return int(q)\n",
    "cd=input()\n",
    "x=cd.rsplit(\",\")\n",
    "for i in range (len(x) ):\n",
    "    print (fact7(int(x[i])))\n",
    "        "
   ]
  },
  {
   "cell_type": "code",
   "execution_count": null,
   "metadata": {},
   "outputs": [],
   "source": []
  }
 ],
 "metadata": {
  "kernelspec": {
   "display_name": "Python 3",
   "language": "python",
   "name": "python3"
  }
 },
 "nbformat": 4,
 "nbformat_minor": 4
}
